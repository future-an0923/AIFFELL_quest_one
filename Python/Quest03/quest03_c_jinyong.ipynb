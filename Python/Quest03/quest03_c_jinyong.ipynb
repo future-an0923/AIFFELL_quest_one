{
  "nbformat": 4,
  "nbformat_minor": 0,
  "metadata": {
    "colab": {
      "provenance": [],
      "include_colab_link": true
    },
    "kernelspec": {
      "name": "python3",
      "display_name": "Python 3"
    },
    "language_info": {
      "name": "python"
    }
  },
  "cells": [
    {
      "cell_type": "markdown",
      "metadata": {
        "id": "view-in-github",
        "colab_type": "text"
      },
      "source": [
        "<a href=\"https://colab.research.google.com/github/future-an0923/AIFFELL_quest_one/blob/main/Python/Quest03/quest03_c_jinyong.ipynb\" target=\"_parent\"><img src=\"https://colab.research.google.com/assets/colab-badge.svg\" alt=\"Open In Colab\"/></a>"
      ]
    },
    {
      "cell_type": "markdown",
      "source": [
        "# [파이썬] 퀘스트: 클로저를 활용한 문제해결하기\n",
        "\n",
        "난이도: ★★★★☆  \n",
        "장르: nonlocal, 클로저, 데코레이터 활용  \n",
        "\n",
        "---\n",
        "\n",
        "\n"
      ],
      "metadata": {
        "id": "sPRcyZsPorCm"
      }
    },
    {
      "cell_type": "markdown",
      "source": [
        "## 문제 1. 최댓값과 최솟값 찾기\n",
        "\n"
      ],
      "metadata": {
        "id": "Dh2vcnApr4VI"
      }
    },
    {
      "cell_type": "markdown",
      "source": [
        "조건:  \n",
        "* 주어진 리스트의 최댓값과 최솟값을 반환하는 클로저 함수를 완성해 주세요.\n",
        "    * 주어진 숫자 리스트 numbers에 대해 find_min_max 함수를 호출하면 find_min과 find_max 함수를 얻을 수 있습니다.\n",
        "    * find_min() 함수를 호출하면 최솟값을, find_max()함수를 호출하면 최댓값을 반환합니다.\n",
        "    * 클로저를 사용하여 min_value와 max_value 변수를 외부에 노출하지 않고도 최솟값과 최대값을 찾을 수 있습니다.\n",
        "    * find_min_max 함수가 호출된 이후에도 find_min과 find_max 함수를 통해 min_value와 max_value 변수에 접근할 수 있습니다.\n",
        "* 주석으로 구현 내용이 써있는 부분을 코드로 채워주세요.\n",
        "---\n",
        "입력:\n",
        "```python\n",
        "numbers = [10, 5, 8, 12, 3, 7]\n",
        "find_min, find_max = find_min_max(numbers)\n",
        "\n",
        "print(\"최솟값:\", find_min())  \n",
        "print(\"최댓값:\", find_max())  \n",
        "```\n",
        "---\n",
        "출력:\n",
        "```\n",
        "3\n",
        "12\n",
        "```\n"
      ],
      "metadata": {
        "id": "d-vXJztpvFD-"
      }
    },
    {
      "cell_type": "code",
      "source": [
        "\n",
        "def find_min_max(numbers: list):\n",
        "    '''\n",
        "    numbers 리스트를 매개로 최소값과 최대값을 반환하는 함수\n",
        "    '''\n",
        "    # min_value와 max_value 변수를 초기화\n",
        "    min_value = 0\n",
        "    max_value = 0\n",
        "    # min_value는 양의 무한대(float('inf'))로 초기화하여 어떤 숫자보다도 큰 값으로 설정\n",
        "    min_value = float('inf')\n",
        "    # max_value는 음의 무한대(float('-inf'))로 초기화하여 어떤 숫자보다도 작은 값으로 설정\n",
        "    max_value = float('-inf')\n",
        "\n",
        "    def update_min_max(num):\n",
        "        nonlocal min_value, max_value # 외부함수의 변수인 min_value, max_value 참조\n",
        "\n",
        "        if num < min_value: # 만약 num 값이 min_value보다 작다면 min_value를 num 값으로 변경\n",
        "           min_value = num\n",
        "\n",
        "        if num > max_value:  # 만약 num 값이 max_value보다 크다면 max_value를 num 값으로 변경\n",
        "           max_value = num\n",
        "\n",
        "    # numbers 리스트의 모든 값을 순환하며 최댓값과 최솟값 업데이트\n",
        "    for num in numbers:\n",
        "        update_min_max(num)\n",
        "\n",
        "    # 최솟값을 반환하는 내부함수\n",
        "    def get_min():\n",
        "        min_value = min(numbers)\n",
        "        return min_value\n",
        "    # 최댓값을 반환하는 내부함수\n",
        "    def get_max():\n",
        "        max_value = max(numbers)\n",
        "        return max_value\n",
        "    # 외부함수는 내부함수(get_min()과 get_max())를 반환\n",
        "    return get_min, get_max\n"
      ],
      "metadata": {
        "id": "oF_uYyS2jjPj"
      },
      "execution_count": null,
      "outputs": []
    },
    {
      "cell_type": "code",
      "source": [
        "numbers = [10, 5, 8, 12, 3, 7]\n",
        "find_min, find_max = find_min_max(numbers)\n",
        "\n",
        "print(\"최솟값:\", find_min())  # 3\n",
        "print(\"최댓값:\", find_max())  # 12"
      ],
      "metadata": {
        "id": "fCd_fJBrobxi",
        "colab": {
          "base_uri": "https://localhost:8080/"
        },
        "outputId": "05279df0-0e9b-4f47-d1ff-459087fe39b8"
      },
      "execution_count": null,
      "outputs": [
        {
          "output_type": "stream",
          "name": "stdout",
          "text": [
            "최솟값: 3\n",
            "최댓값: 12\n"
          ]
        }
      ]
    },
    {
      "cell_type": "markdown",
      "source": [
        "## 문제 2. 함수의 호출 횟수를 세는 데코레이터"
      ],
      "metadata": {
        "id": "d3XECsmXwES5"
      }
    },
    {
      "cell_type": "markdown",
      "source": [
        "지난 시간에 배운 데코레이터를 기억하시나요? 데코레이터도 내부함수를 반환하는 클로저를 활용한 문법입니다. 클로저를 활용하여 함수 호출 횟수를 출력하는 데코레이터를 만들어봅시다.\n",
        "\n",
        "조건:\n",
        "* 함수가 실행될 때 마다 함수 이름과 실행 횟수를 출력하는 데코레이터 `counter` 만들기  \n",
        "\n",
        "힌트:\n",
        "* 데코레이터의 내부 함수(클로저)는 실행횟수를 기억하기 위해 외부 함수의 변수를 참조 해야 합니다\n",
        "* 함수의 이름은 `함수이름.__name__`으로 접근할 수 있습니다.\n",
        "\n",
        "---\n",
        "입력:\n",
        "```python\n",
        "@counter\n",
        "def say_hello():\n",
        "    print(\"Hello Aiffel!\")\n",
        "\n",
        "for i in range(5):\n",
        "    say_hello()\n",
        "```\n",
        "---\n",
        "출력:\n",
        "```\n",
        "Hello Aiffel!\n",
        "say_hello 실행횟수: 1\n",
        "Hello Aiffel!\n",
        "say_hello 실행횟수: 2\n",
        "Hello Aiffel!\n",
        "say_hello 실행횟수: 3\n",
        "Hello Aiffel!\n",
        "say_hello 실행횟수: 4\n",
        "Hello Aiffel!\n",
        "say_hello 실행횟수: 5\n",
        "```"
      ],
      "metadata": {
        "id": "HTdH6DkVvJMF"
      }
    },
    {
      "cell_type": "code",
      "source": [
        "def counter(func):\n",
        "    '''\n",
        "    함수를 매개로 받아 실행횟수를 카운트하는 함수\n",
        "    '''\n",
        "    count = 0 # 변수의 초기값 설정\n",
        "\n",
        "    def wrapper():\n",
        "        nonlocal count # 외부함수의 프리변수의 값을 변경하기 위해 지역변수 해제\n",
        "        count += 1 # 함수가 실행될때마다 1씩 추가한 값을 변수에 저장\n",
        "        func() # 매개로 전달받은 기존 함수 호출\n",
        "        print(f\"{func.__name__}, 실행횟수: {count}\")\n",
        "    return wrapper # wrapper의 결과값을 반환하는 count 함수\n",
        "\n",
        "@counter\n",
        "def say_hello(): # 이 함수의 반환값을 counter 데코레이터에 전달\n",
        "    print(\"Hello Aiffel!\")\n",
        "    return\n",
        "for i in range(5): # 0에서 4까지 순회하면서 say_hello 함수 호출\n",
        "    say_hello()\n"
      ],
      "metadata": {
        "id": "QYdFtnf-MOCg",
        "colab": {
          "base_uri": "https://localhost:8080/"
        },
        "outputId": "22b37145-f247-43a6-d8de-35c08b7b176e"
      },
      "execution_count": null,
      "outputs": [
        {
          "output_type": "stream",
          "name": "stdout",
          "text": [
            "Hello Aiffel!\n",
            "say_hello, 실행횟수: 1\n",
            "Hello Aiffel!\n",
            "say_hello, 실행횟수: 2\n",
            "Hello Aiffel!\n",
            "say_hello, 실행횟수: 3\n",
            "Hello Aiffel!\n",
            "say_hello, 실행횟수: 4\n",
            "Hello Aiffel!\n",
            "say_hello, 실행횟수: 5\n"
          ]
        }
      ]
    },
    {
      "cell_type": "markdown",
      "source": [],
      "metadata": {
        "id": "cV-MFLnbqQ17"
      }
    },
    {
      "cell_type": "code",
      "source": [
        "# 디버깅: say_hello() 함수 호출시 'NoneType' 에러가 발생해 자료타입을 확인해봄\n",
        "type(say_hello)\n",
        "type(counter)"
      ],
      "metadata": {
        "colab": {
          "base_uri": "https://localhost:8080/"
        },
        "id": "7leqtmdZn3S3",
        "outputId": "10af9702-a313-44c9-e8f5-c79498fbcddf"
      },
      "execution_count": null,
      "outputs": [
        {
          "output_type": "execute_result",
          "data": {
            "text/plain": [
              "function"
            ]
          },
          "metadata": {},
          "execution_count": 58
        }
      ]
    },
    {
      "cell_type": "markdown",
      "source": [
        "\n",
        "# 회고\n",
        "코더: 이혜승, 안진용\n",
        "\n",
        "#### 디버깅 기록\n",
        "- min_value, max_value = 0 의 초기값을 설정할 때 실행오류가 발생했는데 변수를 따로 저장해주었더니 해결되었다.\n",
        "- 데코레이터 함수에 return이 있어야 반환값이 있다는 걸 배웠다. 초기 오류로 내부함수인 wrapper()의 반환값만 받았는데 데코레이터 호출 시 결과값이 연동되지 않는 문제가 발생했으나 indentation을 없애서 해결했다.\n",
        "- 또다른 들여쓰기 문제로 데코레이터를 호출하는 실행 함수 역시 반환값이 있어야 for문에서 함수를 호출할 때 NoneType 오류가 발생하지 않음을 배웠다."
      ],
      "metadata": {
        "id": "xAUyLuCBt47R"
      }
    },
    {
      "cell_type": "markdown",
      "source": [
        " -  첫번째 문제에서 min_value와 max_value 변수를 초기화에서 처음에 min_value, max_value = 0 주었다. 오류가 나서 생각해보니 변수와 값의 개수를 맞춰야 하므로 min_value, max_value = 0, 0 을 각각 할당해주었더니 해결되었다.\n",
        "\n",
        "- 두번째 문제에서 counter() 함수가 함수(fn())를 전달받고 해당 함수를 호출하는 새로운 함수 객체 wrapper를 리턴해줘야 하는데 return wrapper 위치 오류로 인해서 실행이 되지 않았지만 위치 변경 후 해결되었다."
      ],
      "metadata": {
        "id": "_n4X2oo5vuU7"
      }
    }
  ]
}